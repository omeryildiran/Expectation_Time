{
 "cells": [
  {
   "cell_type": "code",
   "execution_count": 1,
   "metadata": {},
   "outputs": [],
   "source": [
    "import numpy as np\n",
    "import random\n",
    "import pandas as pd\n",
    "import os"
   ]
  },
  {
   "cell_type": "code",
   "execution_count": 22,
   "metadata": {},
   "outputs": [],
   "source": [
    "\n",
    "def create_trial_list(numberOfTrials,targetProb,colNum=1):\n",
    "    colors=[\"red\",\"green\"]\n",
    "    a=0\n",
    "    b=1\n",
    "    distractorProb=1-targetProb\n",
    "    #creating delay\n",
    "    delay=  [-300 , -233, -167, -100 , -33, 33, 100 ,167, 233, 300]\n",
    "    delay=delay*int(numberOfTrials/len(delay))\n",
    "    random.shuffle(delay)\n",
    "    #delay=np.array(delay)\n",
    "    expectation=[targetProb]*(int(numberOfTrials*targetProb))+[distractorProb]*(int(numberOfTrials*distractorProb))\n",
    "    random.shuffle(expectation)\n",
    "    ## giving color to stimulus\n",
    "    stim_color=[]\n",
    "    distractor_color=[]\n",
    "    congruency=[]\n",
    "    for i in expectation:\n",
    "        if targetProb==0.5:\n",
    "            congruency.append(\"none\")\n",
    "            stim_color.append(colors[a])\n",
    "            distractor_color.append(colors[b])\n",
    "            a, b = b, a      \n",
    "        else: \n",
    "            if i==targetProb:           \n",
    "                congruency.append(\"met\")\n",
    "                stim_color.append(colors[colNum])\n",
    "                distractor_color.append(colors[colNum-1])\n",
    "            else:\n",
    "                congruency.append(\"unmet\")\n",
    "                stim_color.append(colors[colNum-1])\n",
    "                distractor_color.append(colors[colNum])\n",
    "    \n",
    "    data={\"delay\":delay,\n",
    "        \"expectation\":expectation,\n",
    "        \"congruency\":congruency,\n",
    "        \"stim_color\":stim_color,\n",
    "        \"distractor_color\":distractor_color}\n",
    "    df = pd.DataFrame(data)\n",
    "    #return(delay,expectation,stim_color,distractor_color,df)\n",
    "    return df\n",
    "\n",
    "colnum=random.randint(0,1)\n",
    "targetProb=0.5\n",
    "#delay,expectation,stim_color,distractor_color,df=create_trial_list(500,0.7)\n",
    "df=create_trial_list(500,targetProb,colnum)\n",
    "df.to_csv(\"trial_list_\"+str(targetProb)+\"_\"+str(colnum)+\".csv\")"
   ]
  },
  {
   "cell_type": "code",
   "execution_count": 94,
   "metadata": {},
   "outputs": [],
   "source": []
  },
  {
   "cell_type": "markdown",
   "metadata": {},
   "source": []
  }
 ],
 "metadata": {
  "kernelspec": {
   "display_name": "base",
   "language": "python",
   "name": "python3"
  },
  "language_info": {
   "codemirror_mode": {
    "name": "ipython",
    "version": 3
   },
   "file_extension": ".py",
   "mimetype": "text/x-python",
   "name": "python",
   "nbconvert_exporter": "python",
   "pygments_lexer": "ipython3",
   "version": "3.9.12"
  },
  "orig_nbformat": 4
 },
 "nbformat": 4,
 "nbformat_minor": 2
}
