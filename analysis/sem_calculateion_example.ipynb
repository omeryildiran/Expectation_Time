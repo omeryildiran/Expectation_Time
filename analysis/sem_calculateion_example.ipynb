{
 "cells": [
  {
   "cell_type": "code",
   "execution_count": 2,
   "metadata": {},
   "outputs": [
    {
     "name": "stdout",
     "output_type": "stream",
     "text": [
      "Standard error of the mean: 0.5773502691896258\n"
     ]
    }
   ],
   "source": [
    "import pandas as pd\n",
    "import numpy as np\n",
    "\n",
    "# create a pandas dataframe with data from your psychophysics experiment\n",
    "data = {'condition': ['A', 'A', 'A', 'B', 'B', 'B'],\n",
    "        'response': [10, 12, 11, 9, 8, 10]}\n",
    "df = pd.DataFrame(data)\n",
    "\n",
    "# calculate the mean response for each condition\n",
    "mean_by_condition = df.groupby('condition')['response'].mean()\n",
    "\n",
    "# calculate the standard deviation for each condition\n",
    "std_by_condition = df.groupby('condition')['response'].std()\n",
    "\n",
    "# calculate the standard error for each condition\n",
    "n_by_condition = df.groupby('condition')['response'].count()\n",
    "se_by_condition = std_by_condition / np.sqrt(n_by_condition)\n",
    "\n",
    "# calculate the standard error of the mean for all conditions\n",
    "sem = np.sqrt(np.sum(se_by_condition**2) / len(se_by_condition))\n",
    "\n",
    "print('Standard error of the mean:', sem)"
   ]
  },
  {
   "cell_type": "code",
   "execution_count": null,
   "metadata": {},
   "outputs": [],
   "source": []
  }
 ],
 "metadata": {
  "kernelspec": {
   "display_name": "Python 3",
   "language": "python",
   "name": "python3"
  },
  "language_info": {
   "codemirror_mode": {
    "name": "ipython",
    "version": 3
   },
   "file_extension": ".py",
   "mimetype": "text/x-python",
   "name": "python",
   "nbconvert_exporter": "python",
   "pygments_lexer": "ipython3",
   "version": "3.10.11"
  },
  "orig_nbformat": 4
 },
 "nbformat": 4,
 "nbformat_minor": 2
}
