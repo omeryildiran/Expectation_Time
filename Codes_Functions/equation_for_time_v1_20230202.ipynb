{
 "cells": [
  {
   "cell_type": "code",
   "execution_count": 132,
   "metadata": {},
   "outputs": [],
   "source": [
    "import numpy as np\n",
    "import matplotlib.pyplot as plt\n",
    "import os\n",
    "import seaborn as sns\n",
    "from plotly import __version__\n",
    "from plotly.offline import download_plotlyjs, init_notebook_mode, plot, iplot \n",
    "import plotly.offline as pyo\n",
    "import plotly.graph_objs as go\n",
    "from plotly.offline import iplot\n",
    "from scipy import stats\n",
    "import math\n",
    "import pandas as pd\n",
    "import ipywidgets\n"
   ]
  },
  {
   "cell_type": "code",
   "execution_count": 133,
   "metadata": {},
   "outputs": [
    {
     "data": {
      "text/plain": [
       "[-0.07400683815369465,\n",
       " -0.062118638701202,\n",
       " -0.047152769584724606,\n",
       " -0.029354863843348733,\n",
       " -0.009876590546688333,\n",
       " 0.009876590546688333,\n",
       " 0.029354863843348733,\n",
       " 0.047152769584724606,\n",
       " 0.062118638701202,\n",
       " 0.07400683815369465]"
      ]
     },
     "execution_count": 133,
     "metadata": {},
     "output_type": "execute_result"
    }
   ],
   "source": [
    "middleInt=[-300,-233,-167,-100,-33,33,100,167,233,300] ## Time_Distractor - Time_Target\n",
    "perceivedError=[-50,-70,-90,-70,-30,30,70,90,70,40]\n",
    "alpha=0.3 # expectationCoeff\n",
    "middleInt=[x/1000 for x in middleInt]\n",
    "modelPerceivedError=[math.sin((i*5*math.pi)/2)*50 for i in middleInt]\n",
    "df=pd.DataFrame()\n",
    "df[\"modelTemporalError\"]=modelPerceivedError\n",
    "df[\"D-T Delay\"]=middleInt\n",
    "modelPerceivedError=[alpha*x*math.exp(-x**2/0.46) for x in middleInt]\n",
    "modelPerceivedError"
   ]
  },
  {
   "attachments": {},
   "cell_type": "markdown",
   "metadata": {},
   "source": [
    "## 1. No expectation"
   ]
  },
  {
   "cell_type": "code",
   "execution_count": 198,
   "metadata": {},
   "outputs": [
    {
     "data": {
      "application/vnd.jupyter.widget-view+json": {
       "model_id": "48ff9b873bbd46179d1554290a5de394",
       "version_major": 2,
       "version_minor": 0
      },
      "text/plain": [
       "interactive(children=(FloatSlider(value=0.4, description='alpha', max=1.0, min=-1.0), FloatSlider(value=0.2420…"
      ]
     },
     "metadata": {},
     "output_type": "display_data"
    },
    {
     "data": {
      "text/plain": [
       "<function __main__.plot_no_exp(alpha=0.4, sigma=0.2420335)>"
      ]
     },
     "execution_count": 198,
     "metadata": {},
     "output_type": "execute_result"
    }
   ],
   "source": [
    "def plot_no_exp(alpha=0.4,sigma=0.2420335):\n",
    "  middleInt=[-300,-233,-167,-100,-33,33,100,167,233,300]\n",
    "  middleInt =[j for j in range(-900,900,1)]\n",
    "  perceivedError=[-45,-47.9,-47.8,-10,-34,-24,6,39,55,-20]\n",
    "  #alpha=0.3 # expectationCoeff\n",
    "  middleInt=[j/1000 for j in middleInt]\n",
    "  #perceivedError=[j/1000 for j in perceivedError]\n",
    "  #modelPerceivedError=[math.sin((i*math.pi)/0.4)*alpha for i in middleInt]\n",
    "  #for x in middleInt:\n",
    "  #  modelPerceivedError=[alpha*x*math.exp**(-x**2/9)]\n",
    "  modelPerceivedError=[alpha*(x/sigma)*math.exp(-(x**2)/sigma**2) for x in middleInt]\n",
    "  modelPerceivedError=[j*1000 for j in modelPerceivedError]\n",
    "  middleInt=[j*1000 for j in middleInt]\n",
    "\n",
    "  df=pd.DataFrame()\n",
    "  df[\"modelTemporalError\"]=modelPerceivedError\n",
    "  df[\"D-T Delay\"]=middleInt\n",
    "  fig, ax = plt.subplots()\n",
    "  ax.plot(df[\"D-T Delay\"],df[\"modelTemporalError\"])\n",
    "  #ax.plot(df[\"D-T Delay\"],perceivedError)\n",
    "  #Y_=lowess_f(middleInt,modelPerceivedError)\n",
    "  #ax.plot(df[\"D-T Delay\"],Y_)\n",
    "  ax.set_ylim([-110,+110])\n",
    "  plt.axvline(x = 0, linestyle='dotted',color = 'b', label = 'axvline - full height')\n",
    "  plt.axhline(y = 0, linestyle='dotted',color = 'b', label = 'axvline - full height')\n",
    "  plt.xlabel(\"D-T delay(s)\")\n",
    "  plt.ylabel(\"Temporal Error\")\n",
    "  \n",
    "#plot_no_exp()\n",
    "ipywidgets.interact(plot_no_exp, alpha=(-1.0, 1.0))"
   ]
  },
  {
   "attachments": {},
   "cell_type": "markdown",
   "metadata": {},
   "source": [
    "## 2. Expectation Met"
   ]
  },
  {
   "cell_type": "code",
   "execution_count": 187,
   "metadata": {},
   "outputs": [
    {
     "data": {
      "application/vnd.jupyter.widget-view+json": {
       "model_id": "beea1d5aec0e4f31a694ab07e57825cb",
       "version_major": 2,
       "version_minor": 0
      },
      "text/plain": [
       "interactive(children=(FloatSlider(value=0.4, description='alpha', max=1.0, min=-1.0), FloatSlider(value=0.2420…"
      ]
     },
     "metadata": {},
     "output_type": "display_data"
    },
    {
     "data": {
      "text/plain": [
       "<function __main__.plot_no_exp(alpha=0.4, sigma=0.2420335, beta=0.85)>"
      ]
     },
     "execution_count": 187,
     "metadata": {},
     "output_type": "execute_result"
    }
   ],
   "source": [
    "def plot_no_exp(alpha=0.4,sigma=0.2420335,beta=0.85):\n",
    "  middleInt=[-300,-233,-167,-100,-33,33,100,167,233,300]\n",
    "  perceivedError=[-45,-47.9,-47.8,-10,-34,-24,6,39,55,-20]\n",
    "  #alpha=0.3 # expectationCoeff\n",
    "  middleInt=[j/1000 for j in middleInt]\n",
    "  #perceivedError=[j/1000 for j in perceivedError]\n",
    "  #modelPerceivedError=[math.sin((i*math.pi)/0.4)*alpha for i in middleInt]\n",
    "  modelPerceivedError=[alpha*(x/(2*beta)*math.exp(-(x**2)/sigma**2)-0.3*(beta-0.5)) for x in middleInt]\n",
    "  modelPerceivedError=[j*1000 for j in modelPerceivedError]\n",
    "  middleInt=[j*1000 for j in middleInt]\n",
    "\n",
    "  df=pd.DataFrame()\n",
    "  df[\"modelTemporalError\"]=modelPerceivedError\n",
    "  df[\"D-T Delay\"]=middleInt\n",
    "  fig, ax = plt.subplots()\n",
    "  ax.plot(df[\"D-T Delay\"],df[\"modelTemporalError\"])\n",
    "  ax.plot(df[\"D-T Delay\"],perceivedError)\n",
    "  #Y_=lowess_f(middleInt,modelPerceivedError)\n",
    "  #ax.plot(df[\"D-T Delay\"],Y_)\n",
    "  ax.set_ylim([-110,+110])\n",
    "  plt.axvline(x = 0, linestyle='dotted',color = 'b', label = 'axvline - full height')\n",
    "  plt.axhline(y = 0, linestyle='dotted',color = 'b', label = 'axvline - full height')\n",
    "  plt.xlabel(\"D-T delay(s)\")\n",
    "  plt.ylabel(\"Temporal Error\")\n",
    "  \n",
    "#plot_no_exp()\n",
    "ipywidgets.interact(plot_no_exp, alpha=(-1.0, 1.0))"
   ]
  },
  {
   "attachments": {},
   "cell_type": "markdown",
   "metadata": {},
   "source": [
    "## 3. Expectation Unmet"
   ]
  },
  {
   "cell_type": "code",
   "execution_count": 188,
   "metadata": {},
   "outputs": [
    {
     "data": {
      "application/vnd.jupyter.widget-view+json": {
       "model_id": "5f395acfd0734b8fb8cf3cfea17324a6",
       "version_major": 2,
       "version_minor": 0
      },
      "text/plain": [
       "interactive(children=(FloatSlider(value=0.4, description='alpha', max=1.0, min=-1.0), FloatSlider(value=0.2420…"
      ]
     },
     "metadata": {},
     "output_type": "display_data"
    },
    {
     "data": {
      "text/plain": [
       "<function __main__.plot_no_exp(alpha=0.4, sigma=0.2420335, expect=0.85)>"
      ]
     },
     "execution_count": 188,
     "metadata": {},
     "output_type": "execute_result"
    }
   ],
   "source": [
    "def plot_no_exp(alpha=0.4,sigma=0.2420335,expect=0.85):\n",
    "  middleInt=[-300,-233,-167,-100,-33,33,100,167,233,300]\n",
    "  perceivedError=[-45,-47.9,-47.8,-10,-34,-24,6,39,55,-20]\n",
    "  #alpha=0.3 # expectationCoeff\n",
    "  middleInt=[j/1000 for j in middleInt]\n",
    "  #perceivedError=[j/1000 for j in perceivedError]\n",
    "  #modelPerceivedError=[math.sin((i*math.pi)/0.4)*alpha for i in middleInt]\n",
    "  #for x in middleInt:\n",
    "  #  modelPerceivedError=[alpha*x*math.exp**(-x**2/9)]math.cos(2*(math.pi)\n",
    "  modelPerceivedError=[alpha*(-x/(2*((1.0001-expect)))*math.exp(-(x**2)/sigma**2)) for x in middleInt]\n",
    "  #modelPerceivedError=[alpha*(-x/(2*(math.cos(2*expect*(math.pi/4))))*math.exp(-(x**2)/sigma**2)) for x in middleInt]\n",
    "  modelPerceivedError=[j*1000 for j in modelPerceivedError]\n",
    "  middleInt=[j*1000 for j in middleInt]\n",
    "\n",
    "  df=pd.DataFrame()\n",
    "  df[\"modelTemporalError\"]=modelPerceivedError\n",
    "  df[\"D-T Delay\"]=middleInt\n",
    "  fig, ax = plt.subplots()\n",
    "  ax.plot(df[\"D-T Delay\"],df[\"modelTemporalError\"])\n",
    "  ax.plot(df[\"D-T Delay\"],perceivedError)\n",
    "  #Y_=lowess_f(middleInt,modelPerceivedError)\n",
    "  #ax.plot(df[\"D-T Delay\"],Y_)\n",
    "  ax.set_ylim([-150,+150])\n",
    "  plt.axvline(x = 0, linestyle='dotted',color = 'b', label = 'axvline - full height')\n",
    "  plt.axhline(y = 0, linestyle='dotted',color = 'b', label = 'axvline - full height')\n",
    "  plt.xlabel(\"D-T delay(s)\")\n",
    "  plt.ylabel(\"Temporal Error\")\n",
    "  \n",
    "#plot_no_exp()\n",
    "ipywidgets.interact(plot_no_exp, alpha=(-1.0, 1.0))"
   ]
  },
  {
   "cell_type": "code",
   "execution_count": null,
   "metadata": {},
   "outputs": [
    {
     "data": {
      "application/vnd.jupyter.widget-view+json": {
       "model_id": "956a5eba34cb4696a37ab93b7018a8fc",
       "version_major": 2,
       "version_minor": 0
      },
      "text/plain": [
       "interactive(children=(IntSlider(value=50, description='e', min=-50), FloatSlider(value=0.5, description='expec…"
      ]
     },
     "metadata": {},
     "output_type": "display_data"
    },
    {
     "data": {
      "text/plain": [
       "<function __main__.plot_exp(e=50, expectation=0.5, expect_cong=1)>"
      ]
     },
     "execution_count": 86,
     "metadata": {},
     "output_type": "execute_result"
    }
   ],
   "source": [
    "def plot_exp(e=50,expectation=0.50,expect_cong=1):\n",
    "  middleInt=[-300,-233,-167,-100,-33,33,100,167,233,300]\n",
    "  perceivedError=[-45,-47.9,-47.8,-10,-34,-24,6,39,55,-20]\n",
    "  alpha=0.3 # expectationCoeff\n",
    "  middleInt=[j/1000 for j in middleInt]\n",
    "  modelPerceivedError=[e*((expect_cong/(2*(expectation)))*math.sin((i*math.pi)/0.4)-(2*(expectation-0.5)/(expect_cong*expect_cong))) for i in middleInt]\n",
    "  exp2dist=(expectation-(-1*expect_cong))*(expectation-(-1*expect_cong))\n",
    "  exp2dist=exp2dist*(expect_cong/2*expectation)\n",
    "  #exp2dist=math.pow(expectation, -1*expect_cong)/2\n",
    "  #modelPerceivedError=[e*(exp2dist*math.sin((i*math.pi)/0.4)-(2*(expectation-0.5)/(expect_cong*expect_cong))) for i in middleInt]\n",
    "  #modelPerceivedError=[e*((1/(1-expect_cong*expectation))*math.sin((i*math.pi)/0.4)-(2*(expectation-0.5)/(expect_cong*expect_cong))) for i in middleInt]\n",
    "  #modelPerceivedError=[e*(exp2dist*math.cos(2*(math.pi)/4)-(2*(expectation-0.5)/(expect_cong*expect_cong))) for i in middleInt]\n",
    "\n",
    "  df=pd.DataFrame()\n",
    "  df[\"modelTemporalError\"]=modelPerceivedError\n",
    "  df[\"D-T Delay\"]=middleInt\n",
    "  fig, ax = plt.subplots()\n",
    "\n",
    "  ax.plot(df[\"D-T Delay\"],df[\"modelTemporalError\"])\n",
    "  ax.plot(df[\"D-T Delay\"],perceivedError)\n",
    "    plt.axvline(x = 0, color = 'b', label = 'axvline - full height')\n",
    "  plt.axhline(y = 0, color = 'b', label = 'axvline - full height')\n",
    "  plt.xlabel(\"D-T delay(s)\")\n",
    "  plt.ylabel(\"Temporal Error\")\n",
    "\n",
    "  #Y_=lowess_f(middleInt,modelPerceivedError)\n",
    "  #ax.plot(df[\"D-T Delay\"],Y_)\n",
    "  ax.set_ylim([-100,+100])\n",
    "  \n",
    "#plot_no_exp()\n",
    "ipywidgets.interact(plot_exp, e=(-50, 100),expectation=(0.50,1),expect_cong=[-1,1])"
   ]
  },
  {
   "cell_type": "code",
   "execution_count": null,
   "metadata": {},
   "outputs": [],
   "source": []
  }
 ],
 "metadata": {
  "kernelspec": {
   "display_name": "base",
   "language": "python",
   "name": "python3"
  },
  "language_info": {
   "codemirror_mode": {
    "name": "ipython",
    "version": 3
   },
   "file_extension": ".py",
   "mimetype": "text/x-python",
   "name": "python",
   "nbconvert_exporter": "python",
   "pygments_lexer": "ipython3",
   "version": "3.9.12"
  },
  "orig_nbformat": 4,
  "vscode": {
   "interpreter": {
    "hash": "ad2bdc8ecc057115af97d19610ffacc2b4e99fae6737bb82f5d7fb13d2f2c186"
   }
  }
 },
 "nbformat": 4,
 "nbformat_minor": 2
}
